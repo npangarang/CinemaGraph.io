{
 "cells": [
  {
   "cell_type": "code",
   "execution_count": 17,
   "metadata": {},
   "outputs": [],
   "source": [
    "import pandas as pd\n",
    "from imdb import Cinemagoer\n",
    "from tqdm import tqdm\n",
    "import numpy as np\n",
    "import matplotlib.pyplot as plt\n"
   ]
  },
  {
   "attachments": {},
   "cell_type": "markdown",
   "metadata": {},
   "source": [
    "#### Preprocessing basics"
   ]
  },
  {
   "cell_type": "code",
   "execution_count": 11,
   "metadata": {},
   "outputs": [
    {
     "name": "stderr",
     "output_type": "stream",
     "text": [
      "C:\\Users\\Neel_Panging\\AppData\\Local\\Temp\\ipykernel_144868\\2319786140.py:1: DtypeWarning: Columns (4) have mixed types. Specify dtype option on import or set low_memory=False.\n",
      "  basics_df = pd.read_csv(\"data/title.basics.tsv\", sep='\\t')\n"
     ]
    },
    {
     "data": {
      "text/html": [
       "<div>\n",
       "<style scoped>\n",
       "    .dataframe tbody tr th:only-of-type {\n",
       "        vertical-align: middle;\n",
       "    }\n",
       "\n",
       "    .dataframe tbody tr th {\n",
       "        vertical-align: top;\n",
       "    }\n",
       "\n",
       "    .dataframe thead th {\n",
       "        text-align: right;\n",
       "    }\n",
       "</style>\n",
       "<table border=\"1\" class=\"dataframe\">\n",
       "  <thead>\n",
       "    <tr style=\"text-align: right;\">\n",
       "      <th></th>\n",
       "      <th>tconst</th>\n",
       "      <th>titleType</th>\n",
       "      <th>primaryTitle</th>\n",
       "      <th>originalTitle</th>\n",
       "      <th>isAdult</th>\n",
       "      <th>startYear</th>\n",
       "      <th>endYear</th>\n",
       "      <th>runtimeMinutes</th>\n",
       "      <th>genres</th>\n",
       "    </tr>\n",
       "  </thead>\n",
       "  <tbody>\n",
       "    <tr>\n",
       "      <th>0</th>\n",
       "      <td>tt0000001</td>\n",
       "      <td>short</td>\n",
       "      <td>Carmencita</td>\n",
       "      <td>Carmencita</td>\n",
       "      <td>0</td>\n",
       "      <td>1894</td>\n",
       "      <td>\\N</td>\n",
       "      <td>1</td>\n",
       "      <td>Documentary,Short</td>\n",
       "    </tr>\n",
       "    <tr>\n",
       "      <th>1</th>\n",
       "      <td>tt0000002</td>\n",
       "      <td>short</td>\n",
       "      <td>Le clown et ses chiens</td>\n",
       "      <td>Le clown et ses chiens</td>\n",
       "      <td>0</td>\n",
       "      <td>1892</td>\n",
       "      <td>\\N</td>\n",
       "      <td>5</td>\n",
       "      <td>Animation,Short</td>\n",
       "    </tr>\n",
       "    <tr>\n",
       "      <th>2</th>\n",
       "      <td>tt0000003</td>\n",
       "      <td>short</td>\n",
       "      <td>Pauvre Pierrot</td>\n",
       "      <td>Pauvre Pierrot</td>\n",
       "      <td>0</td>\n",
       "      <td>1892</td>\n",
       "      <td>\\N</td>\n",
       "      <td>4</td>\n",
       "      <td>Animation,Comedy,Romance</td>\n",
       "    </tr>\n",
       "    <tr>\n",
       "      <th>3</th>\n",
       "      <td>tt0000004</td>\n",
       "      <td>short</td>\n",
       "      <td>Un bon bock</td>\n",
       "      <td>Un bon bock</td>\n",
       "      <td>0</td>\n",
       "      <td>1892</td>\n",
       "      <td>\\N</td>\n",
       "      <td>12</td>\n",
       "      <td>Animation,Short</td>\n",
       "    </tr>\n",
       "    <tr>\n",
       "      <th>4</th>\n",
       "      <td>tt0000005</td>\n",
       "      <td>short</td>\n",
       "      <td>Blacksmith Scene</td>\n",
       "      <td>Blacksmith Scene</td>\n",
       "      <td>0</td>\n",
       "      <td>1893</td>\n",
       "      <td>\\N</td>\n",
       "      <td>1</td>\n",
       "      <td>Comedy,Short</td>\n",
       "    </tr>\n",
       "  </tbody>\n",
       "</table>\n",
       "</div>"
      ],
      "text/plain": [
       "      tconst titleType            primaryTitle           originalTitle  \\\n",
       "0  tt0000001     short              Carmencita              Carmencita   \n",
       "1  tt0000002     short  Le clown et ses chiens  Le clown et ses chiens   \n",
       "2  tt0000003     short          Pauvre Pierrot          Pauvre Pierrot   \n",
       "3  tt0000004     short             Un bon bock             Un bon bock   \n",
       "4  tt0000005     short        Blacksmith Scene        Blacksmith Scene   \n",
       "\n",
       "  isAdult startYear endYear runtimeMinutes                    genres  \n",
       "0       0      1894      \\N              1         Documentary,Short  \n",
       "1       0      1892      \\N              5           Animation,Short  \n",
       "2       0      1892      \\N              4  Animation,Comedy,Romance  \n",
       "3       0      1892      \\N             12           Animation,Short  \n",
       "4       0      1893      \\N              1              Comedy,Short  "
      ]
     },
     "execution_count": 11,
     "metadata": {},
     "output_type": "execute_result"
    }
   ],
   "source": [
    "basics_df = pd.read_csv(\"data/title.basics.tsv\", sep='\\t')\n",
    "basics_df.head()"
   ]
  },
  {
   "cell_type": "code",
   "execution_count": 12,
   "metadata": {},
   "outputs": [
    {
     "name": "stdout",
     "output_type": "stream",
     "text": [
      "<class 'pandas.core.frame.DataFrame'>\n",
      "Int64Index: 626775 entries, 8 to 9699537\n",
      "Data columns (total 5 columns):\n",
      " #   Column          Non-Null Count   Dtype \n",
      "---  ------          --------------   ----- \n",
      " 0   tconst          626775 non-null  object\n",
      " 1   primaryTitle    626775 non-null  object\n",
      " 2   startYear       626775 non-null  object\n",
      " 3   runtimeMinutes  626775 non-null  object\n",
      " 4   genres          626775 non-null  object\n",
      "dtypes: object(5)\n",
      "memory usage: 28.7+ MB\n"
     ]
    }
   ],
   "source": [
    "basics_df = basics_df[basics_df['titleType'] == \"movie\"]\n",
    "basics_df = basics_df[basics_df['isAdult'] == 0]\n",
    "basics_df['tconst'] = basics_df['tconst'].apply(lambda x: x[2:])\n",
    "basics_df = basics_df[['tconst', 'primaryTitle', 'startYear', 'runtimeMinutes', 'genres']]\n",
    "basics_df.info()"
   ]
  },
  {
   "cell_type": "code",
   "execution_count": 13,
   "metadata": {},
   "outputs": [
    {
     "data": {
      "text/plain": [
       "(626775, 5)"
      ]
     },
     "execution_count": 13,
     "metadata": {},
     "output_type": "execute_result"
    }
   ],
   "source": [
    "basics_df.shape"
   ]
  },
  {
   "cell_type": "code",
   "execution_count": 18,
   "metadata": {},
   "outputs": [],
   "source": [
    "basics_df['startYear'] = basics_df['startYear'].replace('\\\\N', np.nan)"
   ]
  },
  {
   "cell_type": "code",
   "execution_count": 20,
   "metadata": {},
   "outputs": [],
   "source": [
    "basics_df['startYear'] = basics_df['startYear'].astype(float).astype('Int64')"
   ]
  },
  {
   "cell_type": "code",
   "execution_count": 24,
   "metadata": {},
   "outputs": [],
   "source": [
    "basics_df = basics_df[basics_df['startYear'] > 1980]"
   ]
  },
  {
   "cell_type": "code",
   "execution_count": 22,
   "metadata": {},
   "outputs": [
    {
     "data": {
      "text/plain": [
       "(332741, 5)"
      ]
     },
     "execution_count": 22,
     "metadata": {},
     "output_type": "execute_result"
    }
   ],
   "source": [
    "basics_df[basics_df['startYear'] > 1990].shape"
   ]
  },
  {
   "attachments": {},
   "cell_type": "markdown",
   "metadata": {},
   "source": [
    "#### Fetching from API (in progress)"
   ]
  },
  {
   "cell_type": "code",
   "execution_count": null,
   "metadata": {},
   "outputs": [],
   "source": [
    "allMovieIDs = [id[2:] for id in basics_df.tconst]"
   ]
  },
  {
   "cell_type": "code",
   "execution_count": 9,
   "metadata": {},
   "outputs": [],
   "source": [
    "cg = Cinemagoer()"
   ]
  },
  {
   "cell_type": "code",
   "execution_count": null,
   "metadata": {},
   "outputs": [
    {
     "data": {
      "text/plain": [
       "(626775, 10)"
      ]
     },
     "execution_count": 29,
     "metadata": {},
     "output_type": "execute_result"
    }
   ],
   "source": [
    "basics_df.shape"
   ]
  },
  {
   "cell_type": "code",
   "execution_count": 31,
   "metadata": {},
   "outputs": [
    {
     "data": {
      "text/plain": [
       "array(['0011801', '0013274', '0015414', '0015724', '0035423'],\n",
       "      dtype=object)"
      ]
     },
     "execution_count": 31,
     "metadata": {},
     "output_type": "execute_result"
    }
   ],
   "source": [
    "basics_df.head()['tconst'].values"
   ]
  },
  {
   "cell_type": "code",
   "execution_count": 35,
   "metadata": {},
   "outputs": [
    {
     "data": {
      "text/plain": [
       "'0011801'"
      ]
     },
     "execution_count": 35,
     "metadata": {},
     "output_type": "execute_result"
    }
   ],
   "source": [
    "cg.get_imdbMovieID('0011801')"
   ]
  },
  {
   "cell_type": "code",
   "execution_count": 38,
   "metadata": {},
   "outputs": [],
   "source": [
    "movies = cg.get_movie_list(\"ls058726648\")"
   ]
  },
  {
   "cell_type": "code",
   "execution_count": 39,
   "metadata": {},
   "outputs": [
    {
     "data": {
      "text/plain": [
       "129"
      ]
     },
     "execution_count": 39,
     "metadata": {},
     "output_type": "execute_result"
    }
   ],
   "source": [
    "len(movies)"
   ]
  },
  {
   "cell_type": "code",
   "execution_count": 27,
   "metadata": {},
   "outputs": [],
   "source": [
    "cgInfo = cg.get_movie(\"0011801\")"
   ]
  },
  {
   "cell_type": "code",
   "execution_count": 30,
   "metadata": {},
   "outputs": [
    {
     "data": {
      "text/plain": [
       "['localized title',\n",
       " 'cast',\n",
       " 'genres',\n",
       " 'countries',\n",
       " 'country codes',\n",
       " 'language codes',\n",
       " 'color info',\n",
       " 'aspect ratio',\n",
       " 'sound mix',\n",
       " 'certificates',\n",
       " 'original air date',\n",
       " 'cover url',\n",
       " 'imdbID',\n",
       " 'languages',\n",
       " 'title',\n",
       " 'year',\n",
       " 'kind',\n",
       " 'original title',\n",
       " 'director',\n",
       " 'writer',\n",
       " 'producer',\n",
       " 'cinematographer',\n",
       " 'art direction',\n",
       " 'make up',\n",
       " 'production manager',\n",
       " 'akas',\n",
       " 'production companies',\n",
       " 'canonical title',\n",
       " 'long imdb title',\n",
       " 'long imdb canonical title',\n",
       " 'smart canonical title',\n",
       " 'smart long imdb canonical title',\n",
       " 'full-size cover url']"
      ]
     },
     "execution_count": 30,
     "metadata": {},
     "output_type": "execute_result"
    }
   ],
   "source": [
    "cgInfo.keys()\n"
   ]
  },
  {
   "cell_type": "code",
   "execution_count": 25,
   "metadata": {},
   "outputs": [
    {
     "name": "stderr",
     "output_type": "stream",
     "text": [
      "  0%|          | 13/373197 [00:39<314:12:14,  3.03s/it]\n"
     ]
    },
    {
     "ename": "KeyboardInterrupt",
     "evalue": "",
     "output_type": "error",
     "traceback": [
      "\u001b[1;31m---------------------------------------------------------------------------\u001b[0m",
      "\u001b[1;31mKeyboardInterrupt\u001b[0m                         Traceback (most recent call last)",
      "\u001b[1;32mc:\\Users\\Neel_Panging\\OneDrive - Dell Technologies\\Desktop\\GTech\\dva\\Cinema Graph\\EDA.ipynb Cell 15\u001b[0m in \u001b[0;36m<cell line: 2>\u001b[1;34m()\u001b[0m\n\u001b[0;32m      <a href='vscode-notebook-cell:/c%3A/Users/Neel_Panging/OneDrive%20-%20Dell%20Technologies/Desktop/GTech/dva/Cinema%20Graph/EDA.ipynb#X12sZmlsZQ%3D%3D?line=4'>5</a>\u001b[0m     basics_df\u001b[39m.\u001b[39mto_csv(\u001b[39mf\u001b[39m\u001b[39m'\u001b[39m\u001b[39mdata_idx_\u001b[39m\u001b[39m{\u001b[39;00midx\u001b[39m}\u001b[39;00m\u001b[39m'\u001b[39m)\n\u001b[0;32m      <a href='vscode-notebook-cell:/c%3A/Users/Neel_Panging/OneDrive%20-%20Dell%20Technologies/Desktop/GTech/dva/Cinema%20Graph/EDA.ipynb#X12sZmlsZQ%3D%3D?line=5'>6</a>\u001b[0m \u001b[39m# print(idx)\u001b[39;00m\n\u001b[1;32m----> <a href='vscode-notebook-cell:/c%3A/Users/Neel_Panging/OneDrive%20-%20Dell%20Technologies/Desktop/GTech/dva/Cinema%20Graph/EDA.ipynb#X12sZmlsZQ%3D%3D?line=6'>7</a>\u001b[0m cgInfo \u001b[39m=\u001b[39m cg\u001b[39m.\u001b[39;49mget_movie(movieInfo[\u001b[39m'\u001b[39;49m\u001b[39mtconst\u001b[39;49m\u001b[39m'\u001b[39;49m])\n\u001b[0;32m      <a href='vscode-notebook-cell:/c%3A/Users/Neel_Panging/OneDrive%20-%20Dell%20Technologies/Desktop/GTech/dva/Cinema%20Graph/EDA.ipynb#X12sZmlsZQ%3D%3D?line=8'>9</a>\u001b[0m \u001b[39m# update columns with missing or incomplete data\u001b[39;00m\n\u001b[0;32m     <a href='vscode-notebook-cell:/c%3A/Users/Neel_Panging/OneDrive%20-%20Dell%20Technologies/Desktop/GTech/dva/Cinema%20Graph/EDA.ipynb#X12sZmlsZQ%3D%3D?line=9'>10</a>\u001b[0m \u001b[39mif\u001b[39;00m movieInfo[\u001b[39m'\u001b[39m\u001b[39mstartYear\u001b[39m\u001b[39m'\u001b[39m] \u001b[39m==\u001b[39m \u001b[39m'\u001b[39m\u001b[39m\\\\\u001b[39;00m\u001b[39mN\u001b[39m\u001b[39m'\u001b[39m \u001b[39mand\u001b[39;00m \u001b[39m'\u001b[39m\u001b[39moriginal air date\u001b[39m\u001b[39m'\u001b[39m \u001b[39min\u001b[39;00m cgInfo:\n",
      "File \u001b[1;32mc:\\Users\\Neel_Panging\\Anaconda3\\lib\\site-packages\\imdb\\__init__.py:429\u001b[0m, in \u001b[0;36mIMDbBase.get_movie\u001b[1;34m(self, movieID, info, modFunct)\u001b[0m\n\u001b[0;32m    427\u001b[0m \u001b[39mif\u001b[39;00m modFunct \u001b[39mis\u001b[39;00m \u001b[39mnot\u001b[39;00m \u001b[39mNone\u001b[39;00m:\n\u001b[0;32m    428\u001b[0m     movie\u001b[39m.\u001b[39mset_mod_funct(modFunct)\n\u001b[1;32m--> 429\u001b[0m \u001b[39mself\u001b[39;49m\u001b[39m.\u001b[39;49mupdate(movie, info)\n\u001b[0;32m    430\u001b[0m \u001b[39mreturn\u001b[39;00m movie\n",
      "File \u001b[1;32mc:\\Users\\Neel_Panging\\Anaconda3\\lib\\site-packages\\imdb\\__init__.py:848\u001b[0m, in \u001b[0;36mIMDbBase.update\u001b[1;34m(self, mop, info, override)\u001b[0m\n\u001b[0;32m    846\u001b[0m     method \u001b[39m=\u001b[39m \u001b[39mlambda\u001b[39;00m \u001b[39m*\u001b[39mx: {}\n\u001b[0;32m    847\u001b[0m \u001b[39mtry\u001b[39;00m:\n\u001b[1;32m--> 848\u001b[0m     ret \u001b[39m=\u001b[39m method(mopID)\n\u001b[0;32m    849\u001b[0m \u001b[39mexcept\u001b[39;00m \u001b[39mException\u001b[39;00m:\n\u001b[0;32m    850\u001b[0m     _imdb_logger\u001b[39m.\u001b[39mcritical(\n\u001b[0;32m    851\u001b[0m         \u001b[39m'\u001b[39m\u001b[39mcaught an exception retrieving or parsing \u001b[39m\u001b[39m\"\u001b[39m\u001b[39m%s\u001b[39;00m\u001b[39m\"\u001b[39m\u001b[39m info set\u001b[39m\u001b[39m'\u001b[39m\n\u001b[0;32m    852\u001b[0m         \u001b[39m'\u001b[39m\u001b[39m for mopID \u001b[39m\u001b[39m\"\u001b[39m\u001b[39m%s\u001b[39;00m\u001b[39m\"\u001b[39m\u001b[39m (accessSystem: \u001b[39m\u001b[39m%s\u001b[39;00m\u001b[39m)\u001b[39m\u001b[39m'\u001b[39m,\n\u001b[0;32m    853\u001b[0m         i, mopID, mop\u001b[39m.\u001b[39maccessSystem, exc_info\u001b[39m=\u001b[39m\u001b[39mTrue\u001b[39;00m\n\u001b[0;32m    854\u001b[0m     )\n",
      "File \u001b[1;32mc:\\Users\\Neel_Panging\\Anaconda3\\lib\\site-packages\\imdb\\parser\\http\\__init__.py:498\u001b[0m, in \u001b[0;36mIMDbHTTPAccessSystem.get_movie_plot\u001b[1;34m(self, movieID)\u001b[0m\n\u001b[0;32m    497\u001b[0m \u001b[39mdef\u001b[39;00m \u001b[39mget_movie_plot\u001b[39m(\u001b[39mself\u001b[39m, movieID):\n\u001b[1;32m--> 498\u001b[0m     cont \u001b[39m=\u001b[39m \u001b[39mself\u001b[39;49m\u001b[39m.\u001b[39;49m_retrieve(\u001b[39mself\u001b[39;49m\u001b[39m.\u001b[39;49murls[\u001b[39m'\u001b[39;49m\u001b[39mmovie_main\u001b[39;49m\u001b[39m'\u001b[39;49m] \u001b[39m%\u001b[39;49m movieID \u001b[39m+\u001b[39;49m \u001b[39m'\u001b[39;49m\u001b[39mplotsummary\u001b[39;49m\u001b[39m'\u001b[39;49m)\n\u001b[0;32m    499\u001b[0m     ret \u001b[39m=\u001b[39m \u001b[39mself\u001b[39m\u001b[39m.\u001b[39mmProxy\u001b[39m.\u001b[39mplot_parser\u001b[39m.\u001b[39mparse(cont, getRefs\u001b[39m=\u001b[39m\u001b[39mself\u001b[39m\u001b[39m.\u001b[39m_getRefs)\n\u001b[0;32m    500\u001b[0m     ret[\u001b[39m'\u001b[39m\u001b[39minfo sets\u001b[39m\u001b[39m'\u001b[39m] \u001b[39m=\u001b[39m (\u001b[39m'\u001b[39m\u001b[39mplot\u001b[39m\u001b[39m'\u001b[39m, \u001b[39m'\u001b[39m\u001b[39msynopsis\u001b[39m\u001b[39m'\u001b[39m)\n",
      "File \u001b[1;32mc:\\Users\\Neel_Panging\\Anaconda3\\lib\\site-packages\\imdb\\parser\\http\\__init__.py:392\u001b[0m, in \u001b[0;36mIMDbHTTPAccessSystem._retrieve\u001b[1;34m(self, url, size, _noCookies)\u001b[0m\n\u001b[0;32m    390\u001b[0m \u001b[39m\u001b[39m\u001b[39m\"\"\"Retrieve the given URL.\"\"\"\u001b[39;00m\n\u001b[0;32m    391\u001b[0m \u001b[39mself\u001b[39m\u001b[39m.\u001b[39m_http_logger\u001b[39m.\u001b[39mdebug(\u001b[39m'\u001b[39m\u001b[39mfetching url \u001b[39m\u001b[39m%s\u001b[39;00m\u001b[39m (size: \u001b[39m\u001b[39m%d\u001b[39;00m\u001b[39m)\u001b[39m\u001b[39m'\u001b[39m, url, size)\n\u001b[1;32m--> 392\u001b[0m ret \u001b[39m=\u001b[39m \u001b[39mself\u001b[39;49m\u001b[39m.\u001b[39;49murlOpener\u001b[39m.\u001b[39;49mretrieve_unicode(url, size\u001b[39m=\u001b[39;49msize)\n\u001b[0;32m    393\u001b[0m \u001b[39mif\u001b[39;00m PY2 \u001b[39mand\u001b[39;00m \u001b[39misinstance\u001b[39m(ret, \u001b[39mstr\u001b[39m):\n\u001b[0;32m    394\u001b[0m     ret \u001b[39m=\u001b[39m ret\u001b[39m.\u001b[39mdecode(\u001b[39m'\u001b[39m\u001b[39mutf-8\u001b[39m\u001b[39m'\u001b[39m)\n",
      "File \u001b[1;32mc:\\Users\\Neel_Panging\\Anaconda3\\lib\\site-packages\\imdb\\parser\\http\\__init__.py:234\u001b[0m, in \u001b[0;36mIMDbURLopener.retrieve_unicode\u001b[1;34m(self, url, size)\u001b[0m\n\u001b[0;32m    232\u001b[0m uopener\u001b[39m.\u001b[39maddheaders \u001b[39m=\u001b[39m \u001b[39mlist\u001b[39m(\u001b[39mself\u001b[39m\u001b[39m.\u001b[39maddheaders)\n\u001b[0;32m    233\u001b[0m response \u001b[39m=\u001b[39m uopener\u001b[39m.\u001b[39mopen(url)\n\u001b[1;32m--> 234\u001b[0m content \u001b[39m=\u001b[39m response\u001b[39m.\u001b[39;49mread()\n\u001b[0;32m    235\u001b[0m \u001b[39mself\u001b[39m\u001b[39m.\u001b[39m_last_url \u001b[39m=\u001b[39m response\u001b[39m.\u001b[39murl\n\u001b[0;32m    236\u001b[0m \u001b[39m# Maybe the server is so nice to tell us the charset...\u001b[39;00m\n",
      "File \u001b[1;32mc:\\Users\\Neel_Panging\\Anaconda3\\lib\\http\\client.py:470\u001b[0m, in \u001b[0;36mHTTPResponse.read\u001b[1;34m(self, amt)\u001b[0m\n\u001b[0;32m    465\u001b[0m \u001b[39melse\u001b[39;00m:\n\u001b[0;32m    466\u001b[0m     \u001b[39m# Amount is not given (unbounded read) so we must check self.length\u001b[39;00m\n\u001b[0;32m    467\u001b[0m     \u001b[39m# and self.chunked\u001b[39;00m\n\u001b[0;32m    469\u001b[0m     \u001b[39mif\u001b[39;00m \u001b[39mself\u001b[39m\u001b[39m.\u001b[39mchunked:\n\u001b[1;32m--> 470\u001b[0m         \u001b[39mreturn\u001b[39;00m \u001b[39mself\u001b[39;49m\u001b[39m.\u001b[39;49m_readall_chunked()\n\u001b[0;32m    472\u001b[0m     \u001b[39mif\u001b[39;00m \u001b[39mself\u001b[39m\u001b[39m.\u001b[39mlength \u001b[39mis\u001b[39;00m \u001b[39mNone\u001b[39;00m:\n\u001b[0;32m    473\u001b[0m         s \u001b[39m=\u001b[39m \u001b[39mself\u001b[39m\u001b[39m.\u001b[39mfp\u001b[39m.\u001b[39mread()\n",
      "File \u001b[1;32mc:\\Users\\Neel_Panging\\Anaconda3\\lib\\http\\client.py:577\u001b[0m, in \u001b[0;36mHTTPResponse._readall_chunked\u001b[1;34m(self)\u001b[0m\n\u001b[0;32m    575\u001b[0m \u001b[39mtry\u001b[39;00m:\n\u001b[0;32m    576\u001b[0m     \u001b[39mwhile\u001b[39;00m \u001b[39mTrue\u001b[39;00m:\n\u001b[1;32m--> 577\u001b[0m         chunk_left \u001b[39m=\u001b[39m \u001b[39mself\u001b[39;49m\u001b[39m.\u001b[39;49m_get_chunk_left()\n\u001b[0;32m    578\u001b[0m         \u001b[39mif\u001b[39;00m chunk_left \u001b[39mis\u001b[39;00m \u001b[39mNone\u001b[39;00m:\n\u001b[0;32m    579\u001b[0m             \u001b[39mbreak\u001b[39;00m\n",
      "File \u001b[1;32mc:\\Users\\Neel_Panging\\Anaconda3\\lib\\http\\client.py:558\u001b[0m, in \u001b[0;36mHTTPResponse._get_chunk_left\u001b[1;34m(self)\u001b[0m\n\u001b[0;32m    555\u001b[0m \u001b[39mif\u001b[39;00m \u001b[39mnot\u001b[39;00m chunk_left: \u001b[39m# Can be 0 or None\u001b[39;00m\n\u001b[0;32m    556\u001b[0m     \u001b[39mif\u001b[39;00m chunk_left \u001b[39mis\u001b[39;00m \u001b[39mnot\u001b[39;00m \u001b[39mNone\u001b[39;00m:\n\u001b[0;32m    557\u001b[0m         \u001b[39m# We are at the end of chunk, discard chunk end\u001b[39;00m\n\u001b[1;32m--> 558\u001b[0m         \u001b[39mself\u001b[39;49m\u001b[39m.\u001b[39;49m_safe_read(\u001b[39m2\u001b[39;49m)  \u001b[39m# toss the CRLF at the end of the chunk\u001b[39;00m\n\u001b[0;32m    559\u001b[0m     \u001b[39mtry\u001b[39;00m:\n\u001b[0;32m    560\u001b[0m         chunk_left \u001b[39m=\u001b[39m \u001b[39mself\u001b[39m\u001b[39m.\u001b[39m_read_next_chunk_size()\n",
      "File \u001b[1;32mc:\\Users\\Neel_Panging\\Anaconda3\\lib\\http\\client.py:626\u001b[0m, in \u001b[0;36mHTTPResponse._safe_read\u001b[1;34m(self, amt)\u001b[0m\n\u001b[0;32m    624\u001b[0m s \u001b[39m=\u001b[39m []\n\u001b[0;32m    625\u001b[0m \u001b[39mwhile\u001b[39;00m amt \u001b[39m>\u001b[39m \u001b[39m0\u001b[39m:\n\u001b[1;32m--> 626\u001b[0m     chunk \u001b[39m=\u001b[39m \u001b[39mself\u001b[39;49m\u001b[39m.\u001b[39;49mfp\u001b[39m.\u001b[39;49mread(\u001b[39mmin\u001b[39;49m(amt, MAXAMOUNT))\n\u001b[0;32m    627\u001b[0m     \u001b[39mif\u001b[39;00m \u001b[39mnot\u001b[39;00m chunk:\n\u001b[0;32m    628\u001b[0m         \u001b[39mraise\u001b[39;00m IncompleteRead(\u001b[39mb\u001b[39m\u001b[39m'\u001b[39m\u001b[39m'\u001b[39m\u001b[39m.\u001b[39mjoin(s), amt)\n",
      "File \u001b[1;32mc:\\Users\\Neel_Panging\\Anaconda3\\lib\\socket.py:704\u001b[0m, in \u001b[0;36mSocketIO.readinto\u001b[1;34m(self, b)\u001b[0m\n\u001b[0;32m    702\u001b[0m \u001b[39mwhile\u001b[39;00m \u001b[39mTrue\u001b[39;00m:\n\u001b[0;32m    703\u001b[0m     \u001b[39mtry\u001b[39;00m:\n\u001b[1;32m--> 704\u001b[0m         \u001b[39mreturn\u001b[39;00m \u001b[39mself\u001b[39;49m\u001b[39m.\u001b[39;49m_sock\u001b[39m.\u001b[39;49mrecv_into(b)\n\u001b[0;32m    705\u001b[0m     \u001b[39mexcept\u001b[39;00m timeout:\n\u001b[0;32m    706\u001b[0m         \u001b[39mself\u001b[39m\u001b[39m.\u001b[39m_timeout_occurred \u001b[39m=\u001b[39m \u001b[39mTrue\u001b[39;00m\n",
      "File \u001b[1;32mc:\\Users\\Neel_Panging\\Anaconda3\\lib\\ssl.py:1241\u001b[0m, in \u001b[0;36mSSLSocket.recv_into\u001b[1;34m(self, buffer, nbytes, flags)\u001b[0m\n\u001b[0;32m   1237\u001b[0m     \u001b[39mif\u001b[39;00m flags \u001b[39m!=\u001b[39m \u001b[39m0\u001b[39m:\n\u001b[0;32m   1238\u001b[0m         \u001b[39mraise\u001b[39;00m \u001b[39mValueError\u001b[39;00m(\n\u001b[0;32m   1239\u001b[0m           \u001b[39m\"\u001b[39m\u001b[39mnon-zero flags not allowed in calls to recv_into() on \u001b[39m\u001b[39m%s\u001b[39;00m\u001b[39m\"\u001b[39m \u001b[39m%\u001b[39m\n\u001b[0;32m   1240\u001b[0m           \u001b[39mself\u001b[39m\u001b[39m.\u001b[39m\u001b[39m__class__\u001b[39m)\n\u001b[1;32m-> 1241\u001b[0m     \u001b[39mreturn\u001b[39;00m \u001b[39mself\u001b[39;49m\u001b[39m.\u001b[39;49mread(nbytes, buffer)\n\u001b[0;32m   1242\u001b[0m \u001b[39melse\u001b[39;00m:\n\u001b[0;32m   1243\u001b[0m     \u001b[39mreturn\u001b[39;00m \u001b[39msuper\u001b[39m()\u001b[39m.\u001b[39mrecv_into(buffer, nbytes, flags)\n",
      "File \u001b[1;32mc:\\Users\\Neel_Panging\\Anaconda3\\lib\\ssl.py:1099\u001b[0m, in \u001b[0;36mSSLSocket.read\u001b[1;34m(self, len, buffer)\u001b[0m\n\u001b[0;32m   1097\u001b[0m \u001b[39mtry\u001b[39;00m:\n\u001b[0;32m   1098\u001b[0m     \u001b[39mif\u001b[39;00m buffer \u001b[39mis\u001b[39;00m \u001b[39mnot\u001b[39;00m \u001b[39mNone\u001b[39;00m:\n\u001b[1;32m-> 1099\u001b[0m         \u001b[39mreturn\u001b[39;00m \u001b[39mself\u001b[39;49m\u001b[39m.\u001b[39;49m_sslobj\u001b[39m.\u001b[39;49mread(\u001b[39mlen\u001b[39;49m, buffer)\n\u001b[0;32m   1100\u001b[0m     \u001b[39melse\u001b[39;00m:\n\u001b[0;32m   1101\u001b[0m         \u001b[39mreturn\u001b[39;00m \u001b[39mself\u001b[39m\u001b[39m.\u001b[39m_sslobj\u001b[39m.\u001b[39mread(\u001b[39mlen\u001b[39m)\n",
      "\u001b[1;31mKeyboardInterrupt\u001b[0m: "
     ]
    }
   ],
   "source": [
    "i = 0\n",
    "for idx, movieInfo in tqdm(basics_df.iterrows(), total=len(basics_df)):\n",
    "    i += 1\n",
    "    if i % 100_000 == 0:\n",
    "        basics_df.to_csv(f'data_idx_{idx}')\n",
    "    # print(idx)\n",
    "    cgInfo = cg.get_movie(movieInfo['tconst'])\n",
    "    \n",
    "    # update columns with missing or incomplete data\n",
    "    if movieInfo['startYear'] == '\\\\N' and 'original air date' in cgInfo:\n",
    "        basics_df.at[idx, 'startYear'] = cgInfo['original air date'].split(' ')[2]\n",
    "    if movieInfo['runtimeMinutes'] == '\\\\N' and 'runtimes' in cgInfo:\n",
    "        basics_df.at[idx, 'runtimeMinutes'] = cgInfo['runtimes']\n",
    "    if movieInfo['genres'] == '\\\\N' and 'genres' in cgInfo:\n",
    "        basics_df.at[idx, 'genres'] = cgInfo['genres']\n",
    "    \n",
    "    # update other columns\n",
    "    if 'plot outline' in cgInfo:\n",
    "        basics_df.at[idx, 'plotInfo'] = cgInfo['plot outline']\n",
    "    if 'rating' in cgInfo:\n",
    "        basics_df.at[idx, 'avgRating'] = cgInfo['rating']\n",
    "    if 'cast' in cgInfo:\n",
    "        basics_df.at[idx, 'cast'] = \", \".join([str(name) for name in cgInfo['cast']])\n",
    "    if 'director' in cgInfo:\n",
    "        basics_df.at[idx, 'directors'] = \", \".join([str(name) for name in cgInfo['director']])\n",
    "    if 'languages' in cgInfo:\n",
    "        basics_df.at[idx, 'languages'] = \", \".join([str(language) for language in cgInfo['languages']])\n"
   ]
  },
  {
   "cell_type": "code",
   "execution_count": 1,
   "metadata": {},
   "outputs": [
    {
     "name": "stdout",
     "output_type": "stream",
     "text": [
      "\n"
     ]
    }
   ],
   "source": [
    "print()"
   ]
  },
  {
   "attachments": {},
   "cell_type": "markdown",
   "metadata": {},
   "source": [
    "#### Manual Fetching"
   ]
  },
  {
   "cell_type": "code",
   "execution_count": 5,
   "metadata": {},
   "outputs": [],
   "source": [
    "principals_df = pd.read_csv(\"data/title.principals.tsv\", sep='\\t')\n",
    "names_df = pd.read_csv(\"data/name.basics.tsv\", sep='\\t')\n"
   ]
  },
  {
   "cell_type": "code",
   "execution_count": 18,
   "metadata": {},
   "outputs": [
    {
     "data": {
      "text/html": [
       "<div>\n",
       "<style scoped>\n",
       "    .dataframe tbody tr th:only-of-type {\n",
       "        vertical-align: middle;\n",
       "    }\n",
       "\n",
       "    .dataframe tbody tr th {\n",
       "        vertical-align: top;\n",
       "    }\n",
       "\n",
       "    .dataframe thead th {\n",
       "        text-align: right;\n",
       "    }\n",
       "</style>\n",
       "<table border=\"1\" class=\"dataframe\">\n",
       "  <thead>\n",
       "    <tr style=\"text-align: right;\">\n",
       "      <th></th>\n",
       "      <th>tconst</th>\n",
       "      <th>primaryTitle</th>\n",
       "      <th>startYear</th>\n",
       "      <th>runtimeMinutes</th>\n",
       "      <th>genres</th>\n",
       "    </tr>\n",
       "  </thead>\n",
       "  <tbody>\n",
       "    <tr>\n",
       "      <th>8</th>\n",
       "      <td>0000009</td>\n",
       "      <td>Miss Jerry</td>\n",
       "      <td>1894</td>\n",
       "      <td>45</td>\n",
       "      <td>Romance</td>\n",
       "    </tr>\n",
       "    <tr>\n",
       "      <th>144</th>\n",
       "      <td>0000147</td>\n",
       "      <td>The Corbett-Fitzsimmons Fight</td>\n",
       "      <td>1897</td>\n",
       "      <td>100</td>\n",
       "      <td>Documentary,News,Sport</td>\n",
       "    </tr>\n",
       "    <tr>\n",
       "      <th>498</th>\n",
       "      <td>0000502</td>\n",
       "      <td>Bohemios</td>\n",
       "      <td>1905</td>\n",
       "      <td>100</td>\n",
       "      <td>\\N</td>\n",
       "    </tr>\n",
       "    <tr>\n",
       "      <th>570</th>\n",
       "      <td>0000574</td>\n",
       "      <td>The Story of the Kelly Gang</td>\n",
       "      <td>1906</td>\n",
       "      <td>70</td>\n",
       "      <td>Action,Adventure,Biography</td>\n",
       "    </tr>\n",
       "    <tr>\n",
       "      <th>587</th>\n",
       "      <td>0000591</td>\n",
       "      <td>The Prodigal Son</td>\n",
       "      <td>1907</td>\n",
       "      <td>90</td>\n",
       "      <td>Drama</td>\n",
       "    </tr>\n",
       "  </tbody>\n",
       "</table>\n",
       "</div>"
      ],
      "text/plain": [
       "      tconst                   primaryTitle startYear runtimeMinutes  \\\n",
       "8    0000009                     Miss Jerry      1894             45   \n",
       "144  0000147  The Corbett-Fitzsimmons Fight      1897            100   \n",
       "498  0000502                       Bohemios      1905            100   \n",
       "570  0000574    The Story of the Kelly Gang      1906             70   \n",
       "587  0000591               The Prodigal Son      1907             90   \n",
       "\n",
       "                         genres  \n",
       "8                       Romance  \n",
       "144      Documentary,News,Sport  \n",
       "498                          \\N  \n",
       "570  Action,Adventure,Biography  \n",
       "587                       Drama  "
      ]
     },
     "execution_count": 18,
     "metadata": {},
     "output_type": "execute_result"
    }
   ],
   "source": [
    "merged_df = basics_df.copy()\n",
    "merged_df.head()"
   ]
  },
  {
   "attachments": {},
   "cell_type": "markdown",
   "metadata": {},
   "source": [
    "actors"
   ]
  },
  {
   "cell_type": "code",
   "execution_count": 6,
   "metadata": {},
   "outputs": [
    {
     "data": {
      "text/html": [
       "<div>\n",
       "<style scoped>\n",
       "    .dataframe tbody tr th:only-of-type {\n",
       "        vertical-align: middle;\n",
       "    }\n",
       "\n",
       "    .dataframe tbody tr th {\n",
       "        vertical-align: top;\n",
       "    }\n",
       "\n",
       "    .dataframe thead th {\n",
       "        text-align: right;\n",
       "    }\n",
       "</style>\n",
       "<table border=\"1\" class=\"dataframe\">\n",
       "  <thead>\n",
       "    <tr style=\"text-align: right;\">\n",
       "      <th></th>\n",
       "      <th>tconst</th>\n",
       "      <th>ordering</th>\n",
       "      <th>nconst</th>\n",
       "      <th>category</th>\n",
       "      <th>job</th>\n",
       "      <th>characters</th>\n",
       "      <th>primaryName</th>\n",
       "      <th>knownForTitles</th>\n",
       "    </tr>\n",
       "  </thead>\n",
       "  <tbody>\n",
       "    <tr>\n",
       "      <th>0</th>\n",
       "      <td>0000005</td>\n",
       "      <td>1</td>\n",
       "      <td>nm0443482</td>\n",
       "      <td>actor</td>\n",
       "      <td>\\N</td>\n",
       "      <td>[\"Blacksmith\"]</td>\n",
       "      <td>Charles Kayser</td>\n",
       "      <td>tt0000005</td>\n",
       "    </tr>\n",
       "    <tr>\n",
       "      <th>1</th>\n",
       "      <td>0000005</td>\n",
       "      <td>2</td>\n",
       "      <td>nm0653042</td>\n",
       "      <td>actor</td>\n",
       "      <td>\\N</td>\n",
       "      <td>[\"Assistant\"]</td>\n",
       "      <td>John Ott</td>\n",
       "      <td>tt0000005</td>\n",
       "    </tr>\n",
       "    <tr>\n",
       "      <th>2</th>\n",
       "      <td>0000007</td>\n",
       "      <td>1</td>\n",
       "      <td>nm0179163</td>\n",
       "      <td>actor</td>\n",
       "      <td>\\N</td>\n",
       "      <td>\\N</td>\n",
       "      <td>James J. Corbett</td>\n",
       "      <td>tt0163131,tt0003730,tt0034778,tt0003116</td>\n",
       "    </tr>\n",
       "    <tr>\n",
       "      <th>3</th>\n",
       "      <td>0000007</td>\n",
       "      <td>2</td>\n",
       "      <td>nm0183947</td>\n",
       "      <td>actor</td>\n",
       "      <td>\\N</td>\n",
       "      <td>\\N</td>\n",
       "      <td>Peter Courtney</td>\n",
       "      <td>tt0000007</td>\n",
       "    </tr>\n",
       "    <tr>\n",
       "      <th>4</th>\n",
       "      <td>0000008</td>\n",
       "      <td>1</td>\n",
       "      <td>nm0653028</td>\n",
       "      <td>actor</td>\n",
       "      <td>\\N</td>\n",
       "      <td>[\"Sneezing Man\"]</td>\n",
       "      <td>Fred Ott</td>\n",
       "      <td>tt0000008,tt0285265,tt0240514</td>\n",
       "    </tr>\n",
       "  </tbody>\n",
       "</table>\n",
       "</div>"
      ],
      "text/plain": [
       "    tconst  ordering     nconst category job        characters  \\\n",
       "0  0000005         1  nm0443482    actor  \\N    [\"Blacksmith\"]   \n",
       "1  0000005         2  nm0653042    actor  \\N     [\"Assistant\"]   \n",
       "2  0000007         1  nm0179163    actor  \\N                \\N   \n",
       "3  0000007         2  nm0183947    actor  \\N                \\N   \n",
       "4  0000008         1  nm0653028    actor  \\N  [\"Sneezing Man\"]   \n",
       "\n",
       "        primaryName                           knownForTitles  \n",
       "0    Charles Kayser                                tt0000005  \n",
       "1          John Ott                                tt0000005  \n",
       "2  James J. Corbett  tt0163131,tt0003730,tt0034778,tt0003116  \n",
       "3    Peter Courtney                                tt0000007  \n",
       "4          Fred Ott            tt0000008,tt0285265,tt0240514  "
      ]
     },
     "execution_count": 6,
     "metadata": {},
     "output_type": "execute_result"
    }
   ],
   "source": [
    "actors = principals_df[principals_df['category'].isin([\"actor\", \"actress\"])]\n",
    "actors = actors.merge(names_df[['nconst', 'primaryName', 'knownForTitles']], on = \"nconst\", how = \"left\")\n",
    "actors['tconst'] = actors['tconst'].apply(lambda x: x[2:])\n",
    "actors.head()"
   ]
  },
  {
   "cell_type": "code",
   "execution_count": 19,
   "metadata": {},
   "outputs": [
    {
     "name": "stderr",
     "output_type": "stream",
     "text": [
      "  0%|          | 1000/21615234 [01:22<498:15:52, 12.05it/s]\n"
     ]
    }
   ],
   "source": [
    "merged_df['main_cast'] = [[] for _ in range(len(merged_df))]\n",
    "# Iterate over each row in actors\n",
    "for index, row in tqdm(actors.head(1000).iterrows(), total = len(actors)):\n",
    "    known_for = row['knownForTitles']\n",
    "    actor_name = row['primaryName']\n",
    "    if ',' in known_for:\n",
    "        known_for_list = known_for.split(',')\n",
    "    else:\n",
    "        known_for_list = [known_for]\n",
    "    for tconst in known_for_list:\n",
    "        try:\n",
    "            idx = merged_df[merged_df['tconst'] == tconst[2:]].index[0]\n",
    "            merged_df.at[idx, 'main_cast'].append(actor_name)\n",
    "        except Exception as e:\n",
    "            # print(tconst)\n",
    "            # print(e)\n",
    "            pass\n"
   ]
  },
  {
   "attachments": {},
   "cell_type": "markdown",
   "metadata": {},
   "source": [
    "directors"
   ]
  },
  {
   "cell_type": "code",
   "execution_count": 20,
   "metadata": {},
   "outputs": [
    {
     "data": {
      "text/html": [
       "<div>\n",
       "<style scoped>\n",
       "    .dataframe tbody tr th:only-of-type {\n",
       "        vertical-align: middle;\n",
       "    }\n",
       "\n",
       "    .dataframe tbody tr th {\n",
       "        vertical-align: top;\n",
       "    }\n",
       "\n",
       "    .dataframe thead th {\n",
       "        text-align: right;\n",
       "    }\n",
       "</style>\n",
       "<table border=\"1\" class=\"dataframe\">\n",
       "  <thead>\n",
       "    <tr style=\"text-align: right;\">\n",
       "      <th></th>\n",
       "      <th>tconst</th>\n",
       "      <th>ordering</th>\n",
       "      <th>nconst</th>\n",
       "      <th>category</th>\n",
       "      <th>job</th>\n",
       "      <th>characters</th>\n",
       "      <th>primaryName</th>\n",
       "      <th>knownForTitles</th>\n",
       "    </tr>\n",
       "  </thead>\n",
       "  <tbody>\n",
       "    <tr>\n",
       "      <th>0</th>\n",
       "      <td>0000001</td>\n",
       "      <td>2</td>\n",
       "      <td>nm0005690</td>\n",
       "      <td>director</td>\n",
       "      <td>\\N</td>\n",
       "      <td>\\N</td>\n",
       "      <td>William K.L. Dickson</td>\n",
       "      <td>tt0219560,tt1496763,tt0308254,tt1428455</td>\n",
       "    </tr>\n",
       "    <tr>\n",
       "      <th>1</th>\n",
       "      <td>0000002</td>\n",
       "      <td>1</td>\n",
       "      <td>nm0721526</td>\n",
       "      <td>director</td>\n",
       "      <td>\\N</td>\n",
       "      <td>\\N</td>\n",
       "      <td>Émile Reynaud</td>\n",
       "      <td>tt16763674,tt0000003,tt16763740,tt13125956</td>\n",
       "    </tr>\n",
       "    <tr>\n",
       "      <th>2</th>\n",
       "      <td>0000003</td>\n",
       "      <td>1</td>\n",
       "      <td>nm0721526</td>\n",
       "      <td>director</td>\n",
       "      <td>\\N</td>\n",
       "      <td>\\N</td>\n",
       "      <td>Émile Reynaud</td>\n",
       "      <td>tt16763674,tt0000003,tt16763740,tt13125956</td>\n",
       "    </tr>\n",
       "    <tr>\n",
       "      <th>3</th>\n",
       "      <td>0000004</td>\n",
       "      <td>1</td>\n",
       "      <td>nm0721526</td>\n",
       "      <td>director</td>\n",
       "      <td>\\N</td>\n",
       "      <td>\\N</td>\n",
       "      <td>Émile Reynaud</td>\n",
       "      <td>tt16763674,tt0000003,tt16763740,tt13125956</td>\n",
       "    </tr>\n",
       "    <tr>\n",
       "      <th>4</th>\n",
       "      <td>0000005</td>\n",
       "      <td>3</td>\n",
       "      <td>nm0005690</td>\n",
       "      <td>director</td>\n",
       "      <td>\\N</td>\n",
       "      <td>\\N</td>\n",
       "      <td>William K.L. Dickson</td>\n",
       "      <td>tt0219560,tt1496763,tt0308254,tt1428455</td>\n",
       "    </tr>\n",
       "  </tbody>\n",
       "</table>\n",
       "</div>"
      ],
      "text/plain": [
       "    tconst  ordering     nconst  category job characters  \\\n",
       "0  0000001         2  nm0005690  director  \\N         \\N   \n",
       "1  0000002         1  nm0721526  director  \\N         \\N   \n",
       "2  0000003         1  nm0721526  director  \\N         \\N   \n",
       "3  0000004         1  nm0721526  director  \\N         \\N   \n",
       "4  0000005         3  nm0005690  director  \\N         \\N   \n",
       "\n",
       "            primaryName                              knownForTitles  \n",
       "0  William K.L. Dickson     tt0219560,tt1496763,tt0308254,tt1428455  \n",
       "1         Émile Reynaud  tt16763674,tt0000003,tt16763740,tt13125956  \n",
       "2         Émile Reynaud  tt16763674,tt0000003,tt16763740,tt13125956  \n",
       "3         Émile Reynaud  tt16763674,tt0000003,tt16763740,tt13125956  \n",
       "4  William K.L. Dickson     tt0219560,tt1496763,tt0308254,tt1428455  "
      ]
     },
     "execution_count": 20,
     "metadata": {},
     "output_type": "execute_result"
    }
   ],
   "source": [
    "directors = principals_df[principals_df['category'].isin([\"director\"])]\n",
    "directors = directors.merge(names_df[['nconst', 'primaryName', 'knownForTitles']], on = \"nconst\", how = \"left\")\n",
    "directors['tconst'] = directors['tconst'].apply(lambda x: x[2:])\n",
    "directors.head()"
   ]
  },
  {
   "cell_type": "code",
   "execution_count": 21,
   "metadata": {},
   "outputs": [
    {
     "name": "stderr",
     "output_type": "stream",
     "text": [
      "  0%|          | 1000/6384020 [01:31<162:46:30, 10.89it/s]\n"
     ]
    }
   ],
   "source": [
    "merged_df['directors'] = [[] for _ in range(len(merged_df))]\n",
    "# Iterate over each row in actors\n",
    "for index, row in tqdm(directors.head(1000).iterrows(), total = len(directors)):\n",
    "    known_for = row['knownForTitles']\n",
    "    director_name = row['primaryName']\n",
    "    if ',' in known_for:\n",
    "        known_for_list = known_for.split(',')\n",
    "    else:\n",
    "        known_for_list = [known_for]\n",
    "    for tconst in known_for_list:\n",
    "        try:\n",
    "            idx = merged_df[merged_df['tconst'] == tconst[2:]].index[0]\n",
    "            merged_df.at[idx, 'directors'].append(director_name)\n",
    "        except Exception as e:\n",
    "            # print(tconst)\n",
    "            # print(e)\n",
    "            pass\n"
   ]
  },
  {
   "attachments": {},
   "cell_type": "markdown",
   "metadata": {},
   "source": [
    "ratings"
   ]
  },
  {
   "cell_type": "code",
   "execution_count": 31,
   "metadata": {},
   "outputs": [
    {
     "data": {
      "text/html": [
       "<div>\n",
       "<style scoped>\n",
       "    .dataframe tbody tr th:only-of-type {\n",
       "        vertical-align: middle;\n",
       "    }\n",
       "\n",
       "    .dataframe tbody tr th {\n",
       "        vertical-align: top;\n",
       "    }\n",
       "\n",
       "    .dataframe thead th {\n",
       "        text-align: right;\n",
       "    }\n",
       "</style>\n",
       "<table border=\"1\" class=\"dataframe\">\n",
       "  <thead>\n",
       "    <tr style=\"text-align: right;\">\n",
       "      <th></th>\n",
       "      <th>tconst</th>\n",
       "      <th>averageRating</th>\n",
       "      <th>numVotes</th>\n",
       "    </tr>\n",
       "  </thead>\n",
       "  <tbody>\n",
       "    <tr>\n",
       "      <th>0</th>\n",
       "      <td>0000001</td>\n",
       "      <td>5.7</td>\n",
       "      <td>1959</td>\n",
       "    </tr>\n",
       "    <tr>\n",
       "      <th>1</th>\n",
       "      <td>0000002</td>\n",
       "      <td>5.8</td>\n",
       "      <td>263</td>\n",
       "    </tr>\n",
       "    <tr>\n",
       "      <th>2</th>\n",
       "      <td>0000003</td>\n",
       "      <td>6.5</td>\n",
       "      <td>1799</td>\n",
       "    </tr>\n",
       "    <tr>\n",
       "      <th>3</th>\n",
       "      <td>0000004</td>\n",
       "      <td>5.6</td>\n",
       "      <td>179</td>\n",
       "    </tr>\n",
       "    <tr>\n",
       "      <th>4</th>\n",
       "      <td>0000005</td>\n",
       "      <td>6.2</td>\n",
       "      <td>2596</td>\n",
       "    </tr>\n",
       "  </tbody>\n",
       "</table>\n",
       "</div>"
      ],
      "text/plain": [
       "    tconst  averageRating  numVotes\n",
       "0  0000001            5.7      1959\n",
       "1  0000002            5.8       263\n",
       "2  0000003            6.5      1799\n",
       "3  0000004            5.6       179\n",
       "4  0000005            6.2      2596"
      ]
     },
     "execution_count": 31,
     "metadata": {},
     "output_type": "execute_result"
    }
   ],
   "source": [
    "ratings_df = pd.read_csv(\"data/title.ratings.tsv\", sep='\\t')\n",
    "ratings_df['tconst'] = ratings_df['tconst'].apply(lambda x: x[2:])\n",
    "ratings_df.head()"
   ]
  },
  {
   "cell_type": "code",
   "execution_count": 33,
   "metadata": {},
   "outputs": [],
   "source": [
    "merged_df = merged_df.merge(ratings_df[['tconst', 'averageRating']], on = \"tconst\")"
   ]
  },
  {
   "attachments": {},
   "cell_type": "markdown",
   "metadata": {},
   "source": [
    "languages"
   ]
  },
  {
   "cell_type": "code",
   "execution_count": 34,
   "metadata": {},
   "outputs": [
    {
     "name": "stderr",
     "output_type": "stream",
     "text": [
      "C:\\Users\\Neel_Panging\\AppData\\Local\\Temp\\ipykernel_83284\\824536641.py:1: DtypeWarning: Columns (7) have mixed types. Specify dtype option on import or set low_memory=False.\n",
      "  akas_df = pd.read_csv(\"data/title.akas.tsv\", sep='\\t')\n"
     ]
    },
    {
     "data": {
      "text/html": [
       "<div>\n",
       "<style scoped>\n",
       "    .dataframe tbody tr th:only-of-type {\n",
       "        vertical-align: middle;\n",
       "    }\n",
       "\n",
       "    .dataframe tbody tr th {\n",
       "        vertical-align: top;\n",
       "    }\n",
       "\n",
       "    .dataframe thead th {\n",
       "        text-align: right;\n",
       "    }\n",
       "</style>\n",
       "<table border=\"1\" class=\"dataframe\">\n",
       "  <thead>\n",
       "    <tr style=\"text-align: right;\">\n",
       "      <th></th>\n",
       "      <th>titleId</th>\n",
       "      <th>ordering</th>\n",
       "      <th>title</th>\n",
       "      <th>region</th>\n",
       "      <th>language</th>\n",
       "      <th>types</th>\n",
       "      <th>attributes</th>\n",
       "      <th>isOriginalTitle</th>\n",
       "    </tr>\n",
       "  </thead>\n",
       "  <tbody>\n",
       "    <tr>\n",
       "      <th>0</th>\n",
       "      <td>tt0000001</td>\n",
       "      <td>1</td>\n",
       "      <td>Карменсіта</td>\n",
       "      <td>UA</td>\n",
       "      <td>\\N</td>\n",
       "      <td>imdbDisplay</td>\n",
       "      <td>\\N</td>\n",
       "      <td>0</td>\n",
       "    </tr>\n",
       "    <tr>\n",
       "      <th>1</th>\n",
       "      <td>tt0000001</td>\n",
       "      <td>2</td>\n",
       "      <td>Carmencita</td>\n",
       "      <td>DE</td>\n",
       "      <td>\\N</td>\n",
       "      <td>\\N</td>\n",
       "      <td>literal title</td>\n",
       "      <td>0</td>\n",
       "    </tr>\n",
       "    <tr>\n",
       "      <th>2</th>\n",
       "      <td>tt0000001</td>\n",
       "      <td>3</td>\n",
       "      <td>Carmencita - spanyol tánc</td>\n",
       "      <td>HU</td>\n",
       "      <td>\\N</td>\n",
       "      <td>imdbDisplay</td>\n",
       "      <td>\\N</td>\n",
       "      <td>0</td>\n",
       "    </tr>\n",
       "    <tr>\n",
       "      <th>3</th>\n",
       "      <td>tt0000001</td>\n",
       "      <td>4</td>\n",
       "      <td>Καρμενσίτα</td>\n",
       "      <td>GR</td>\n",
       "      <td>\\N</td>\n",
       "      <td>imdbDisplay</td>\n",
       "      <td>\\N</td>\n",
       "      <td>0</td>\n",
       "    </tr>\n",
       "    <tr>\n",
       "      <th>4</th>\n",
       "      <td>tt0000001</td>\n",
       "      <td>5</td>\n",
       "      <td>Карменсита</td>\n",
       "      <td>RU</td>\n",
       "      <td>\\N</td>\n",
       "      <td>imdbDisplay</td>\n",
       "      <td>\\N</td>\n",
       "      <td>0</td>\n",
       "    </tr>\n",
       "  </tbody>\n",
       "</table>\n",
       "</div>"
      ],
      "text/plain": [
       "     titleId  ordering                      title region language  \\\n",
       "0  tt0000001         1                 Карменсіта     UA       \\N   \n",
       "1  tt0000001         2                 Carmencita     DE       \\N   \n",
       "2  tt0000001         3  Carmencita - spanyol tánc     HU       \\N   \n",
       "3  tt0000001         4                 Καρμενσίτα     GR       \\N   \n",
       "4  tt0000001         5                 Карменсита     RU       \\N   \n",
       "\n",
       "         types     attributes isOriginalTitle  \n",
       "0  imdbDisplay             \\N               0  \n",
       "1           \\N  literal title               0  \n",
       "2  imdbDisplay             \\N               0  \n",
       "3  imdbDisplay             \\N               0  \n",
       "4  imdbDisplay             \\N               0  "
      ]
     },
     "execution_count": 34,
     "metadata": {},
     "output_type": "execute_result"
    }
   ],
   "source": [
    "akas_df = pd.read_csv(\"data/title.akas.tsv\", sep='\\t')\n",
    "akas_df.head()"
   ]
  },
  {
   "cell_type": "code",
   "execution_count": 39,
   "metadata": {},
   "outputs": [
    {
     "data": {
      "text/plain": [
       "DE    4222774\n",
       "FR    4218950\n",
       "JP    4218381\n",
       "IN    4157983\n",
       "ES    4140375\n",
       "       ...   \n",
       "CC          1\n",
       "TV          1\n",
       "NU          1\n",
       "PW          1\n",
       "NR          1\n",
       "Name: region, Length: 248, dtype: int64"
      ]
     },
     "execution_count": 39,
     "metadata": {},
     "output_type": "execute_result"
    }
   ],
   "source": [
    "akas_df['region'].value_counts()"
   ]
  },
  {
   "cell_type": "code",
   "execution_count": 38,
   "metadata": {},
   "outputs": [
    {
     "data": {
      "text/html": [
       "<div>\n",
       "<style scoped>\n",
       "    .dataframe tbody tr th:only-of-type {\n",
       "        vertical-align: middle;\n",
       "    }\n",
       "\n",
       "    .dataframe tbody tr th {\n",
       "        vertical-align: top;\n",
       "    }\n",
       "\n",
       "    .dataframe thead th {\n",
       "        text-align: right;\n",
       "    }\n",
       "</style>\n",
       "<table border=\"1\" class=\"dataframe\">\n",
       "  <thead>\n",
       "    <tr style=\"text-align: right;\">\n",
       "      <th></th>\n",
       "      <th>titleId</th>\n",
       "      <th>ordering</th>\n",
       "      <th>title</th>\n",
       "      <th>region</th>\n",
       "      <th>language</th>\n",
       "      <th>types</th>\n",
       "      <th>attributes</th>\n",
       "      <th>isOriginalTitle</th>\n",
       "    </tr>\n",
       "  </thead>\n",
       "  <tbody>\n",
       "    <tr>\n",
       "      <th>0</th>\n",
       "      <td>tt0000001</td>\n",
       "      <td>1</td>\n",
       "      <td>Карменсіта</td>\n",
       "      <td>UA</td>\n",
       "      <td>\\N</td>\n",
       "      <td>imdbDisplay</td>\n",
       "      <td>\\N</td>\n",
       "      <td>0</td>\n",
       "    </tr>\n",
       "    <tr>\n",
       "      <th>1</th>\n",
       "      <td>tt0000001</td>\n",
       "      <td>2</td>\n",
       "      <td>Carmencita</td>\n",
       "      <td>DE</td>\n",
       "      <td>\\N</td>\n",
       "      <td>\\N</td>\n",
       "      <td>literal title</td>\n",
       "      <td>0</td>\n",
       "    </tr>\n",
       "    <tr>\n",
       "      <th>2</th>\n",
       "      <td>tt0000001</td>\n",
       "      <td>3</td>\n",
       "      <td>Carmencita - spanyol tánc</td>\n",
       "      <td>HU</td>\n",
       "      <td>\\N</td>\n",
       "      <td>imdbDisplay</td>\n",
       "      <td>\\N</td>\n",
       "      <td>0</td>\n",
       "    </tr>\n",
       "    <tr>\n",
       "      <th>3</th>\n",
       "      <td>tt0000001</td>\n",
       "      <td>4</td>\n",
       "      <td>Καρμενσίτα</td>\n",
       "      <td>GR</td>\n",
       "      <td>\\N</td>\n",
       "      <td>imdbDisplay</td>\n",
       "      <td>\\N</td>\n",
       "      <td>0</td>\n",
       "    </tr>\n",
       "    <tr>\n",
       "      <th>4</th>\n",
       "      <td>tt0000001</td>\n",
       "      <td>5</td>\n",
       "      <td>Карменсита</td>\n",
       "      <td>RU</td>\n",
       "      <td>\\N</td>\n",
       "      <td>imdbDisplay</td>\n",
       "      <td>\\N</td>\n",
       "      <td>0</td>\n",
       "    </tr>\n",
       "    <tr>\n",
       "      <th>5</th>\n",
       "      <td>tt0000001</td>\n",
       "      <td>6</td>\n",
       "      <td>Carmencita</td>\n",
       "      <td>US</td>\n",
       "      <td>\\N</td>\n",
       "      <td>imdbDisplay</td>\n",
       "      <td>\\N</td>\n",
       "      <td>0</td>\n",
       "    </tr>\n",
       "    <tr>\n",
       "      <th>6</th>\n",
       "      <td>tt0000001</td>\n",
       "      <td>7</td>\n",
       "      <td>Carmencita</td>\n",
       "      <td>\\N</td>\n",
       "      <td>\\N</td>\n",
       "      <td>original</td>\n",
       "      <td>\\N</td>\n",
       "      <td>1</td>\n",
       "    </tr>\n",
       "    <tr>\n",
       "      <th>7</th>\n",
       "      <td>tt0000001</td>\n",
       "      <td>8</td>\n",
       "      <td>カルメンチータ</td>\n",
       "      <td>JP</td>\n",
       "      <td>ja</td>\n",
       "      <td>imdbDisplay</td>\n",
       "      <td>\\N</td>\n",
       "      <td>0</td>\n",
       "    </tr>\n",
       "  </tbody>\n",
       "</table>\n",
       "</div>"
      ],
      "text/plain": [
       "     titleId  ordering                      title region language  \\\n",
       "0  tt0000001         1                 Карменсіта     UA       \\N   \n",
       "1  tt0000001         2                 Carmencita     DE       \\N   \n",
       "2  tt0000001         3  Carmencita - spanyol tánc     HU       \\N   \n",
       "3  tt0000001         4                 Καρμενσίτα     GR       \\N   \n",
       "4  tt0000001         5                 Карменсита     RU       \\N   \n",
       "5  tt0000001         6                 Carmencita     US       \\N   \n",
       "6  tt0000001         7                 Carmencita     \\N       \\N   \n",
       "7  tt0000001         8                    カルメンチータ     JP       ja   \n",
       "\n",
       "         types     attributes isOriginalTitle  \n",
       "0  imdbDisplay             \\N               0  \n",
       "1           \\N  literal title               0  \n",
       "2  imdbDisplay             \\N               0  \n",
       "3  imdbDisplay             \\N               0  \n",
       "4  imdbDisplay             \\N               0  \n",
       "5  imdbDisplay             \\N               0  \n",
       "6     original             \\N               1  \n",
       "7  imdbDisplay             \\N               0  "
      ]
     },
     "execution_count": 38,
     "metadata": {},
     "output_type": "execute_result"
    }
   ],
   "source": [
    "akas_df[akas_df['titleId'] == 'tt0000001']"
   ]
  },
  {
   "cell_type": "code",
   "execution_count": null,
   "metadata": {},
   "outputs": [],
   "source": []
  },
  {
   "cell_type": "code",
   "execution_count": 40,
   "metadata": {},
   "outputs": [
    {
     "data": {
      "text/html": [
       "<div>\n",
       "<style scoped>\n",
       "    .dataframe tbody tr th:only-of-type {\n",
       "        vertical-align: middle;\n",
       "    }\n",
       "\n",
       "    .dataframe tbody tr th {\n",
       "        vertical-align: top;\n",
       "    }\n",
       "\n",
       "    .dataframe thead th {\n",
       "        text-align: right;\n",
       "    }\n",
       "</style>\n",
       "<table border=\"1\" class=\"dataframe\">\n",
       "  <thead>\n",
       "    <tr style=\"text-align: right;\">\n",
       "      <th></th>\n",
       "      <th>tconst</th>\n",
       "      <th>primaryTitle</th>\n",
       "      <th>startYear</th>\n",
       "      <th>runtimeMinutes</th>\n",
       "      <th>genres</th>\n",
       "      <th>main_cast</th>\n",
       "      <th>directors</th>\n",
       "      <th>averageRating</th>\n",
       "    </tr>\n",
       "  </thead>\n",
       "  <tbody>\n",
       "    <tr>\n",
       "      <th>0</th>\n",
       "      <td>0000009</td>\n",
       "      <td>Miss Jerry</td>\n",
       "      <td>1894</td>\n",
       "      <td>45</td>\n",
       "      <td>Romance</td>\n",
       "      <td>[Blanche Bayliss, William Courtenay, Chauncey ...</td>\n",
       "      <td>[Alexander Black]</td>\n",
       "      <td>5.3</td>\n",
       "    </tr>\n",
       "    <tr>\n",
       "      <th>1</th>\n",
       "      <td>0000147</td>\n",
       "      <td>The Corbett-Fitzsimmons Fight</td>\n",
       "      <td>1897</td>\n",
       "      <td>100</td>\n",
       "      <td>Documentary,News,Sport</td>\n",
       "      <td>[]</td>\n",
       "      <td>[Enoch J. Rector]</td>\n",
       "      <td>5.3</td>\n",
       "    </tr>\n",
       "    <tr>\n",
       "      <th>2</th>\n",
       "      <td>0000502</td>\n",
       "      <td>Bohemios</td>\n",
       "      <td>1905</td>\n",
       "      <td>100</td>\n",
       "      <td>\\N</td>\n",
       "      <td>[Antonio del Pozo, El Mochuelo]</td>\n",
       "      <td>[]</td>\n",
       "      <td>4.1</td>\n",
       "    </tr>\n",
       "    <tr>\n",
       "      <th>3</th>\n",
       "      <td>0000574</td>\n",
       "      <td>The Story of the Kelly Gang</td>\n",
       "      <td>1906</td>\n",
       "      <td>70</td>\n",
       "      <td>Action,Adventure,Biography</td>\n",
       "      <td>[Orrie Perry, Reg Perry, Elizabeth Tait, John ...</td>\n",
       "      <td>[Charles Tait]</td>\n",
       "      <td>6.0</td>\n",
       "    </tr>\n",
       "    <tr>\n",
       "      <th>4</th>\n",
       "      <td>0000591</td>\n",
       "      <td>The Prodigal Son</td>\n",
       "      <td>1907</td>\n",
       "      <td>90</td>\n",
       "      <td>Drama</td>\n",
       "      <td>[Christiane Mandelys, Gilberte Sergy]</td>\n",
       "      <td>[Michel Carré]</td>\n",
       "      <td>4.4</td>\n",
       "    </tr>\n",
       "  </tbody>\n",
       "</table>\n",
       "</div>"
      ],
      "text/plain": [
       "    tconst                   primaryTitle startYear runtimeMinutes  \\\n",
       "0  0000009                     Miss Jerry      1894             45   \n",
       "1  0000147  The Corbett-Fitzsimmons Fight      1897            100   \n",
       "2  0000502                       Bohemios      1905            100   \n",
       "3  0000574    The Story of the Kelly Gang      1906             70   \n",
       "4  0000591               The Prodigal Son      1907             90   \n",
       "\n",
       "                       genres  \\\n",
       "0                     Romance   \n",
       "1      Documentary,News,Sport   \n",
       "2                          \\N   \n",
       "3  Action,Adventure,Biography   \n",
       "4                       Drama   \n",
       "\n",
       "                                           main_cast          directors  \\\n",
       "0  [Blanche Bayliss, William Courtenay, Chauncey ...  [Alexander Black]   \n",
       "1                                                 []  [Enoch J. Rector]   \n",
       "2                    [Antonio del Pozo, El Mochuelo]                 []   \n",
       "3  [Orrie Perry, Reg Perry, Elizabeth Tait, John ...     [Charles Tait]   \n",
       "4              [Christiane Mandelys, Gilberte Sergy]     [Michel Carré]   \n",
       "\n",
       "   averageRating  \n",
       "0            5.3  \n",
       "1            5.3  \n",
       "2            4.1  \n",
       "3            6.0  \n",
       "4            4.4  "
      ]
     },
     "execution_count": 40,
     "metadata": {},
     "output_type": "execute_result"
    }
   ],
   "source": [
    "merged_df.head()"
   ]
  },
  {
   "cell_type": "code",
   "execution_count": null,
   "metadata": {},
   "outputs": [],
   "source": []
  },
  {
   "attachments": {},
   "cell_type": "markdown",
   "metadata": {},
   "source": [
    "Postprocessing"
   ]
  },
  {
   "cell_type": "code",
   "execution_count": 54,
   "metadata": {},
   "outputs": [],
   "source": [
    "merged_df['startYear'] = merged_df['startYear'].replace('\\\\N', np.nan)\n",
    "merged_df['startYear'] = merged_df['startYear'].astype(float).fillna(0).astype(int)\n",
    "min_year = merged_df['startYear'].min()\n",
    "max_year = merged_df['startYear'].max()\n",
    "\n",
    "# Define bin edges\n",
    "bin_edges = pd.interval_range(start=min_year, end=max_year, periods=10)\n",
    "\n"
   ]
  },
  {
   "attachments": {},
   "cell_type": "markdown",
   "metadata": {},
   "source": [
    "Creating \"Era\" column"
   ]
  },
  {
   "cell_type": "code",
   "execution_count": 62,
   "metadata": {},
   "outputs": [
    {
     "data": {
      "text/plain": [
       "0         1894\n",
       "1         1897\n",
       "2         1905\n",
       "3         1906\n",
       "4         1907\n",
       "          ... \n",
       "283547    2020\n",
       "283548    2020\n",
       "283549    2019\n",
       "283550    2019\n",
       "283551    2017\n",
       "Name: startYear, Length: 283552, dtype: int32"
      ]
     },
     "execution_count": 62,
     "metadata": {},
     "output_type": "execute_result"
    }
   ],
   "source": [
    "merged_df['startYear']"
   ]
  },
  {
   "cell_type": "code",
   "execution_count": 56,
   "metadata": {},
   "outputs": [],
   "source": [
    "\n",
    "# Replace the \"\\N\" values with np.nan to treat them as missing values\n",
    "merged_df['startYear'] = merged_df['startYear'].replace(\"\\\\N\", np.nan)\n",
    "\n",
    "# Define the bins and labels\n",
    "bins = [-np.inf, 1900, 1920, 1940, 1960, 1980, 2000, 2020, np.inf]\n",
    "labels = ['Before 1900', '1900-1920', '1920-1940', '1940-1960', '1960-1980', '1980-2000', '2000-2020', 'NA']\n",
    "\n",
    "# Create a new column called \"era\" by binning the \"startYear\" column\n",
    "merged_df['era'] = pd.cut(merged_df['startYear'], bins=bins, labels=labels, include_lowest=True)\n"
   ]
  },
  {
   "cell_type": "code",
   "execution_count": 84,
   "metadata": {},
   "outputs": [],
   "source": [
    "# Replace the \"\\N\" values with np.nan to treat them as missing values\n",
    "merged_df['startYear'] = merged_df['startYear'].replace(\"\\\\N\", np.nan)\n",
    "\n",
    "# Compute the bin edges using quantiles\n",
    "bin_edges = merged_df['startYear'].quantile([0, 0.25, 0.5, 0.75, 1]).tolist()\n",
    "\n",
    "# Add negative and positive infinity to bin edges\n",
    "bin_edges = [-np.inf] + bin_edges + [np.inf]\n",
    "\n",
    "# Define the labels for the bins\n",
    "labels = ['Before ' + str(int(bin_edges[1])), \n",
    "          str(int(bin_edges[1])) + ' to ' + str(int(bin_edges[2])),\n",
    "          str(int(bin_edges[2])) + ' to ' + str(int(bin_edges[3])),\n",
    "          str(int(bin_edges[3])) + ' to ' + str(int(bin_edges[4])),\n",
    "          'After ' + str(int(bin_edges[4])), 'NA']\n",
    "\n",
    "# Create a new column called \"era\" by binning the \"startYear\" column\n",
    "merged_df['era'] = pd.cut(merged_df['startYear'], bins=bin_edges, labels=labels, include_lowest=True)\n"
   ]
  },
  {
   "cell_type": "code",
   "execution_count": 85,
   "metadata": {},
   "outputs": [
    {
     "data": {
      "text/plain": [
       "1978 to 2005    73800\n",
       "2005 to 2015    72835\n",
       "0 to 1978       70840\n",
       "After 2015      66027\n",
       "Before 0           50\n",
       "NA                  0\n",
       "Name: era, dtype: int64"
      ]
     },
     "execution_count": 85,
     "metadata": {},
     "output_type": "execute_result"
    }
   ],
   "source": [
    "merged_df['era'].value_counts()"
   ]
  },
  {
   "attachments": {},
   "cell_type": "markdown",
   "metadata": {},
   "source": [
    "Runtime bins"
   ]
  },
  {
   "cell_type": "code",
   "execution_count": 86,
   "metadata": {},
   "outputs": [],
   "source": [
    "# Replace the \"\\N\" values with np.nan to treat them as missing values\n",
    "merged_df['runtimeMinutes'] = merged_df['runtimeMinutes'].replace(\"\\\\N\", np.nan)\n",
    "\n",
    "# Define the number of bins you want\n",
    "num_bins = 5\n",
    "\n",
    "# Define the labels for each bin\n",
    "labels = ['Very Short', 'Short', 'Medium', 'Long', 'Very Long']\n",
    "\n",
    "# Create bins based on the distribution of runtimeMinutes\n",
    "bins = pd.qcut(merged_df['runtimeMinutes'], q=num_bins, duplicates='drop', labels=labels)\n",
    "\n",
    "# Replace any null values with \"NA\" label\n",
    "bins = bins.cat.add_categories(['NA']).fillna('NA')\n",
    "\n",
    "# Create a new column called \"runtime_bins\" using the bins\n",
    "merged_df['runtime_bins'] = bins\n"
   ]
  },
  {
   "cell_type": "code",
   "execution_count": 87,
   "metadata": {},
   "outputs": [
    {
     "data": {
      "text/plain": [
       "Short         59381\n",
       "Very Short    58923\n",
       "Long          57742\n",
       "Very Long     55641\n",
       "Medium        51865\n",
       "NA                0\n",
       "Name: runtime_bins, dtype: int64"
      ]
     },
     "execution_count": 87,
     "metadata": {},
     "output_type": "execute_result"
    }
   ],
   "source": [
    "merged_df['runtime_bins'].value_counts()"
   ]
  },
  {
   "cell_type": "code",
   "execution_count": 97,
   "metadata": {},
   "outputs": [],
   "source": [
    "# Concatenate relevant columns for each movie into a single string\n",
    "merged_df['text'] = merged_df['era'].astype(str) + ' ' + \\\n",
    "                    merged_df['runtime_bins'].astype(str) + ' ' + merged_df['genres'].apply(lambda x: ''.join(x)) + ' ' + \\\n",
    "                    merged_df['main_cast'].apply(lambda x: '  '.join(x)) + ' ' + merged_df['directors'].apply(lambda x: ' '.join(x))"
   ]
  },
  {
   "cell_type": "code",
   "execution_count": 98,
   "metadata": {},
   "outputs": [
    {
     "data": {
      "text/html": [
       "<div>\n",
       "<style scoped>\n",
       "    .dataframe tbody tr th:only-of-type {\n",
       "        vertical-align: middle;\n",
       "    }\n",
       "\n",
       "    .dataframe tbody tr th {\n",
       "        vertical-align: top;\n",
       "    }\n",
       "\n",
       "    .dataframe thead th {\n",
       "        text-align: right;\n",
       "    }\n",
       "</style>\n",
       "<table border=\"1\" class=\"dataframe\">\n",
       "  <thead>\n",
       "    <tr style=\"text-align: right;\">\n",
       "      <th></th>\n",
       "      <th>tconst</th>\n",
       "      <th>primaryTitle</th>\n",
       "      <th>startYear</th>\n",
       "      <th>runtimeMinutes</th>\n",
       "      <th>genres</th>\n",
       "      <th>main_cast</th>\n",
       "      <th>directors</th>\n",
       "      <th>averageRating</th>\n",
       "      <th>era</th>\n",
       "      <th>runtime_bins</th>\n",
       "      <th>text</th>\n",
       "    </tr>\n",
       "  </thead>\n",
       "  <tbody>\n",
       "    <tr>\n",
       "      <th>0</th>\n",
       "      <td>0000009</td>\n",
       "      <td>Miss Jerry</td>\n",
       "      <td>1894</td>\n",
       "      <td>45.0</td>\n",
       "      <td>Romance</td>\n",
       "      <td>[Blanche Bayliss, William Courtenay, Chauncey ...</td>\n",
       "      <td>[Alexander Black]</td>\n",
       "      <td>5.3</td>\n",
       "      <td>0 to 1978</td>\n",
       "      <td>Very Short</td>\n",
       "      <td>0 to 1978 Very Short Romance Blanche Bayliss  ...</td>\n",
       "    </tr>\n",
       "    <tr>\n",
       "      <th>1</th>\n",
       "      <td>0000147</td>\n",
       "      <td>The Corbett-Fitzsimmons Fight</td>\n",
       "      <td>1897</td>\n",
       "      <td>100.0</td>\n",
       "      <td>Documentary,News,Sport</td>\n",
       "      <td>[]</td>\n",
       "      <td>[Enoch J. Rector]</td>\n",
       "      <td>5.3</td>\n",
       "      <td>0 to 1978</td>\n",
       "      <td>Long</td>\n",
       "      <td>0 to 1978 Long Documentary,News,Sport  Enoch J...</td>\n",
       "    </tr>\n",
       "    <tr>\n",
       "      <th>2</th>\n",
       "      <td>0000502</td>\n",
       "      <td>Bohemios</td>\n",
       "      <td>1905</td>\n",
       "      <td>100.0</td>\n",
       "      <td>\\N</td>\n",
       "      <td>[Antonio del Pozo, El Mochuelo]</td>\n",
       "      <td>[]</td>\n",
       "      <td>4.1</td>\n",
       "      <td>0 to 1978</td>\n",
       "      <td>Long</td>\n",
       "      <td>0 to 1978 Long \\N Antonio del Pozo  El Mochuelo</td>\n",
       "    </tr>\n",
       "    <tr>\n",
       "      <th>3</th>\n",
       "      <td>0000574</td>\n",
       "      <td>The Story of the Kelly Gang</td>\n",
       "      <td>1906</td>\n",
       "      <td>70.0</td>\n",
       "      <td>Action,Adventure,Biography</td>\n",
       "      <td>[Orrie Perry, Reg Perry, Elizabeth Tait, John ...</td>\n",
       "      <td>[Charles Tait]</td>\n",
       "      <td>6.0</td>\n",
       "      <td>0 to 1978</td>\n",
       "      <td>Very Short</td>\n",
       "      <td>0 to 1978 Very Short Action,Adventure,Biograph...</td>\n",
       "    </tr>\n",
       "    <tr>\n",
       "      <th>4</th>\n",
       "      <td>0000591</td>\n",
       "      <td>The Prodigal Son</td>\n",
       "      <td>1907</td>\n",
       "      <td>90.0</td>\n",
       "      <td>Drama</td>\n",
       "      <td>[Christiane Mandelys, Gilberte Sergy]</td>\n",
       "      <td>[Michel Carré]</td>\n",
       "      <td>4.4</td>\n",
       "      <td>0 to 1978</td>\n",
       "      <td>Medium</td>\n",
       "      <td>0 to 1978 Medium Drama Christiane Mandelys  Gi...</td>\n",
       "    </tr>\n",
       "  </tbody>\n",
       "</table>\n",
       "</div>"
      ],
      "text/plain": [
       "    tconst                   primaryTitle  startYear  runtimeMinutes  \\\n",
       "0  0000009                     Miss Jerry       1894            45.0   \n",
       "1  0000147  The Corbett-Fitzsimmons Fight       1897           100.0   \n",
       "2  0000502                       Bohemios       1905           100.0   \n",
       "3  0000574    The Story of the Kelly Gang       1906            70.0   \n",
       "4  0000591               The Prodigal Son       1907            90.0   \n",
       "\n",
       "                       genres  \\\n",
       "0                     Romance   \n",
       "1      Documentary,News,Sport   \n",
       "2                          \\N   \n",
       "3  Action,Adventure,Biography   \n",
       "4                       Drama   \n",
       "\n",
       "                                           main_cast          directors  \\\n",
       "0  [Blanche Bayliss, William Courtenay, Chauncey ...  [Alexander Black]   \n",
       "1                                                 []  [Enoch J. Rector]   \n",
       "2                    [Antonio del Pozo, El Mochuelo]                 []   \n",
       "3  [Orrie Perry, Reg Perry, Elizabeth Tait, John ...     [Charles Tait]   \n",
       "4              [Christiane Mandelys, Gilberte Sergy]     [Michel Carré]   \n",
       "\n",
       "   averageRating        era runtime_bins  \\\n",
       "0            5.3  0 to 1978   Very Short   \n",
       "1            5.3  0 to 1978         Long   \n",
       "2            4.1  0 to 1978         Long   \n",
       "3            6.0  0 to 1978   Very Short   \n",
       "4            4.4  0 to 1978       Medium   \n",
       "\n",
       "                                                text  \n",
       "0  0 to 1978 Very Short Romance Blanche Bayliss  ...  \n",
       "1  0 to 1978 Long Documentary,News,Sport  Enoch J...  \n",
       "2   0 to 1978 Long \\N Antonio del Pozo  El Mochuelo   \n",
       "3  0 to 1978 Very Short Action,Adventure,Biograph...  \n",
       "4  0 to 1978 Medium Drama Christiane Mandelys  Gi...  "
      ]
     },
     "execution_count": 98,
     "metadata": {},
     "output_type": "execute_result"
    }
   ],
   "source": [
    "merged_df.head()"
   ]
  },
  {
   "cell_type": "code",
   "execution_count": 100,
   "metadata": {},
   "outputs": [
    {
     "data": {
      "text/plain": [
       "'0 to 1978 Very Short Romance Blanche Bayliss  William Courtenay  Chauncey Depew Alexander Black'"
      ]
     },
     "execution_count": 100,
     "metadata": {},
     "output_type": "execute_result"
    }
   ],
   "source": [
    "merged_df.iloc[0]['text']"
   ]
  },
  {
   "cell_type": "code",
   "execution_count": 101,
   "metadata": {},
   "outputs": [],
   "source": [
    "merged_df.to_csv(\"sample_df.csv\")"
   ]
  },
  {
   "attachments": {},
   "cell_type": "markdown",
   "metadata": {},
   "source": [
    "### Modeling"
   ]
  },
  {
   "cell_type": "code",
   "execution_count": 3,
   "metadata": {},
   "outputs": [],
   "source": [
    "merged_df = pd.read_csv(\"sample_df.csv\")"
   ]
  },
  {
   "cell_type": "code",
   "execution_count": 2,
   "metadata": {},
   "outputs": [],
   "source": [
    "from sklearn.feature_extraction.text import TfidfVectorizer\n",
    "from sklearn.metrics.pairwise import cosine_similarity"
   ]
  },
  {
   "cell_type": "code",
   "execution_count": 4,
   "metadata": {},
   "outputs": [],
   "source": [
    "# Define the choices for runtime_bins, era, and genres\n",
    "runtime_choices = merged_df['runtime_bins'].unique()\n",
    "era_choices = merged_df['era'].unique()\n",
    "genre_choices = merged_df['genres'].str.split(',', expand=True).stack().unique().tolist()"
   ]
  },
  {
   "cell_type": "code",
   "execution_count": 6,
   "metadata": {},
   "outputs": [],
   "source": [
    "def query_preferences(merged_df):\n",
    "    # Define the choices for runtime_bins, era, genres, main_cast, and directors\n",
    "\n",
    "    runtime_choices = merged_df['runtime_bins'].unique()\n",
    "    era_choices = merged_df['era'].unique()\n",
    "    genre_choices = merged_df['genres'].str.split(',', expand=True).stack().unique().tolist()\n",
    "    main_cast_choices = merged_df['main_cast'].explode().str.strip().unique().astype(str).tolist()\n",
    "    directors_choices = merged_df['directors'].explode().str.strip().unique().astype(str).tolist()\n",
    "\n",
    "    # Ask for user preferences\n",
    "    era_pref = input(f\"Enter your preferred era ({', '.join(era_choices)}): \")\n",
    "    runtime_pref = input(f\"Enter your preferred runtime ({', '.join(runtime_choices)}): \")\n",
    "    genre_pref = input(f\"Enter your preferred genres ({', '.join(genre_choices)}): \")\n",
    "    main_cast_pref = input(f\"Enter your preferred main cast members ({', '.join(main_cast_choices)}), separated by commas: \")\n",
    "    directors_pref = input(f\"Enter your preferred directors ({', '.join(directors_choices)}), separated by commas: \")\n",
    "\n",
    "    # Print user preferences\n",
    "    print(\"Your preferences:\")\n",
    "    print(f\"Era: {era_pref}\")\n",
    "    print(f\"Runtime: {runtime_pref}\")\n",
    "    print(f\"Genres: {genre_pref}\")\n",
    "    print(f\"Main cast members: {main_cast_pref}\")\n",
    "    print(f\"Directors: {directors_pref}\")\n",
    "    print(\"~-\"*50)\n",
    "\n",
    "    # Generate similarities based on user preferences\n",
    "    generate_similarities(era_pref, runtime_pref, genre_pref, main_cast_pref, directors_pref)\n",
    "\n",
    "\n",
    "def generate_similarities(era_pref, runtime_pref, genre_pref, main_cast_pref, directors_pref):\n",
    "    # Filter movies based on user preferences\n",
    "    filtered_df = merged_df.copy()\n",
    "    # Compute TF-IDF vectors for movies and user input\n",
    "    tfidf = TfidfVectorizer(stop_words='english')\n",
    "    tfidf_matrix = tfidf.fit_transform(filtered_df['text'].values.astype('U'))\n",
    "    user_input = era_pref + ' ' + runtime_pref + ' ' + genre_pref + ' ' + main_cast_pref + ' ' + directors_pref\n",
    "    user_tfidf = tfidf.transform([user_input])\n",
    "    cosine_similarities = cosine_similarity(user_tfidf, tfidf_matrix).flatten()\n",
    "\n",
    "    # Get indices of top 5 movies with highest similarity scores\n",
    "    top_indices = cosine_similarities.argsort()[::-1][:5]\n",
    "\n",
    "    # Print top 5 recommended movies\n",
    "    print(\"Recommended movies:\")\n",
    "    for idx in top_indices:\n",
    "        # if idx in filtered_df.index:\n",
    "        print(filtered_df.loc[idx, 'primaryTitle'], '(' + str(filtered_df.loc[idx, 'startYear']) + ')', '- Similarity score:', round(cosine_similarities[idx], 2))\n"
   ]
  },
  {
   "cell_type": "code",
   "execution_count": 7,
   "metadata": {},
   "outputs": [
    {
     "name": "stdout",
     "output_type": "stream",
     "text": [
      "Your preferences:\n",
      "Era: 2005 to 2015\n",
      "Runtime: Medium\n",
      "Genres: Adventure, Action\n",
      "Main cast members: \n",
      "Directors: \n",
      "~-~-~-~-~-~-~-~-~-~-~-~-~-~-~-~-~-~-~-~-~-~-~-~-~-~-~-~-~-~-~-~-~-~-~-~-~-~-~-~-~-~-~-~-~-~-~-~-~-~-\n",
      "Recommended movies:\n",
      "Camel Caravan (2012) - Similarity score: 1.0\n",
      "Mercenaries (2014) - Similarity score: 1.0\n",
      "Wild Desert (2015) - Similarity score: 1.0\n",
      "Big Game (2014) - Similarity score: 1.0\n",
      "Viking: The Berserkers (2014) - Similarity score: 1.0\n"
     ]
    }
   ],
   "source": [
    "query_preferences(merged_df)"
   ]
  },
  {
   "cell_type": "code",
   "execution_count": 8,
   "metadata": {},
   "outputs": [
    {
     "name": "stdout",
     "output_type": "stream",
     "text": [
      "Your preferences:\n",
      "Era: After 2015\n",
      "Runtime: Medium\n",
      "Genres: Thriller, Horror\n",
      "Main cast members: Walter Edwin\n",
      "Directors: Alexander Black\n",
      "~-~-~-~-~-~-~-~-~-~-~-~-~-~-~-~-~-~-~-~-~-~-~-~-~-~-~-~-~-~-~-~-~-~-~-~-~-~-~-~-~-~-~-~-~-~-~-~-~-~-\n",
      "Recommended movies:\n",
      "Who Will Marry Mary? (1913) - Similarity score: 0.64\n",
      "Gloria's Romance (1916) - Similarity score: 0.64\n",
      "Miss Jerry (1894) - Similarity score: 0.36\n",
      "The White Pearl (1915) - Similarity score: 0.32\n",
      "The Requin (2022) - Similarity score: 0.23\n"
     ]
    }
   ],
   "source": [
    "query_preferences(merged_df)"
   ]
  },
  {
   "cell_type": "code",
   "execution_count": null,
   "metadata": {},
   "outputs": [],
   "source": []
  }
 ],
 "metadata": {
  "kernelspec": {
   "display_name": "base",
   "language": "python",
   "name": "python3"
  },
  "language_info": {
   "codemirror_mode": {
    "name": "ipython",
    "version": 3
   },
   "file_extension": ".py",
   "mimetype": "text/x-python",
   "name": "python",
   "nbconvert_exporter": "python",
   "pygments_lexer": "ipython3",
   "version": "3.9.12"
  },
  "orig_nbformat": 4
 },
 "nbformat": 4,
 "nbformat_minor": 2
}
